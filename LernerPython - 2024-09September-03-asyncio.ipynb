{
 "cells": [
  {
   "cell_type": "markdown",
   "metadata": {},
   "source": [
    "# `asyncio`\n",
    "\n",
    "1. What is (and isn't?) `asyncio`\n",
    "2. How it works, using non-`asyncio` stuff\n",
    "3. Coroutines and tasks and `async def`\n",
    "4. Running coroutines and `await`\n",
    "5. Task groups\n",
    "6. Getting results (and exceptions)\n",
    "7. Task pools\n",
    "8. Retrieving URLs\n",
    "9. Chat server"
   ]
  },
  {
   "cell_type": "markdown",
   "metadata": {},
   "source": [
    "# The background\n",
    "\n",
    "Two related terms in programming:\n",
    "\n",
    "- Concurrency -- a more general term meaning that we can benefit from pieces of our program executing semi-independently, even if they're not truly indepent of one another\n",
    "- Parallelism -- running multiple parts of our program in parallel\n",
    "\n"
   ]
  }
 ],
 "metadata": {
  "kernelspec": {
   "display_name": "Python 3 (ipykernel)",
   "language": "python",
   "name": "python3"
  },
  "language_info": {
   "codemirror_mode": {
    "name": "ipython",
    "version": 3
   },
   "file_extension": ".py",
   "mimetype": "text/x-python",
   "name": "python",
   "nbconvert_exporter": "python",
   "pygments_lexer": "ipython3",
   "version": "3.12.5"
  }
 },
 "nbformat": 4,
 "nbformat_minor": 4
}
